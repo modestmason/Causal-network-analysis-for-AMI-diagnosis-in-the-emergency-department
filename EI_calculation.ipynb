{
 "cells": [
  {
   "cell_type": "code",
   "execution_count": null,
   "id": "987c6896-730e-4f02-8ad4-1d7f96471dfa",
   "metadata": {},
   "outputs": [],
   "source": [
    "from causalnex.inference import InferenceEngine\n",
    "from causalnex.network import BayesianNetwork\n",
    "import xml_read\n",
    "import math\n",
    "import numpy as np\n",
    "import pandas as pd\n",
    "import warnings\n",
    "from tqdm.std import *\n",
    "warnings.filterwarnings('ignore')\n",
    "\n",
    "file_name = 'causal network.xml'\n",
    "graph_structure = xml_read.parse_xml_sm(file_name)\n",
    "data = pd.read_csv('Structural data_coarse-grained.csv')"
   ]
  },
  {
   "cell_type": "code",
   "execution_count": null,
   "id": "3fcb2897-600c-43d3-b4a6-22b3ba176fbe",
   "metadata": {},
   "outputs": [],
   "source": [
    "# EI calculatioin\n",
    "bn = BayesianNetwork(graph_structure)\n",
    "bn = bn.fit_node_states(data)\n",
    "bn_cpd = bn.fit_cpds(data, method=\"BayesianEstimator\", bayes_prior=\"K2\")\n",
    "VARIABLE = bn_cpd.nodes\n",
    "print(VARIABLE)\n",
    "if __name__ == '__main__':\n",
    "    EI = np.zeros((len(VARIABLE),len(VARIABLE)))\n",
    "    for V in tqdm(range(len(VARIABLE))):\n",
    "        one_variable = VARIABLE[:]\n",
    "        variable_v = one_variable.pop(V)\n",
    "        ie = InferenceEngine(bn)\n",
    "        ie_zero = ie.query()\n",
    "        IDICT = ie_zero[VARIABLE[V]].keys()\n",
    "        MIDICT = []\n",
    "        for key in IDICT:\n",
    "            MIDICT.append(key)\n",
    "        I0 = len(MIDICT)\n",
    "        PdoA_B = 1 / I0\n",
    "        try:\n",
    "            for i in range(len(one_variable)):\n",
    "                I1 = len(ie_zero[one_variable[i]])\n",
    "                P_temp = np.zeros((I0, I1))\n",
    "                U_temp = np.zeros(I1)\n",
    "                for k in range(I0):\n",
    "                    ie_1 = InferenceEngine(bn)\n",
    "                    ie_1.do_intervention(variable_v, int(MIDICT[k]))\n",
    "                    ie_11 = ie_1.query()\n",
    "                    for j in range(I1):\n",
    "                        P_temp[k,j]=ie_11[one_variable[i]][j]\n",
    "                for j in range(I1):\n",
    "                    for k in range(I0):\n",
    "                        U_temp[j]=U_temp[j]+P_temp[k,j]\n",
    "                    U_temp[j]=U_temp[j]*PdoA_B\n",
    "                for k in range(I0):\n",
    "                    part=np.zeros(I1)\n",
    "                    for j in range(I1):\n",
    "                        if P_temp[k,j] > 0:\n",
    "                            part[j] = PdoA_B * (P_temp[k,j] * math.log(P_temp[k,j] / U_temp[j]))\n",
    "                        else:\n",
    "                            part[j] = 0\n",
    "                        EI[V][VARIABLE.index(one_variable[i])]=EI[V][VARIABLE.index(one_variable[i])]+part[j]\n",
    "        except Exception:\n",
    "            pass\n",
    "    print(EI)\n",
    "    np.save('ei.npy', EI)\n",
    "    np.savetxt('EI.csv', EI, fmt='%s', delimiter=',')"
   ]
  }
 ],
 "metadata": {
  "kernelspec": {
   "display_name": "Python 3 (ipykernel)",
   "language": "python",
   "name": "python3"
  },
  "language_info": {
   "codemirror_mode": {
    "name": "ipython",
    "version": 3
   },
   "file_extension": ".py",
   "mimetype": "text/x-python",
   "name": "python",
   "nbconvert_exporter": "python",
   "pygments_lexer": "ipython3",
   "version": "3.8.19"
  }
 },
 "nbformat": 4,
 "nbformat_minor": 5
}
