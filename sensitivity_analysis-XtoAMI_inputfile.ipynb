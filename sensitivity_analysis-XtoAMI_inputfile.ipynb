{
 "cells": [
  {
   "cell_type": "code",
   "execution_count": null,
   "id": "2eaf5f88-e72b-4cb5-b7a6-25705a8e279f",
   "metadata": {},
   "outputs": [],
   "source": [
    "from causalnex.inference import InferenceEngine\n",
    "from causalnex.network import BayesianNetwork\n",
    "from sklearn.model_selection import train_test_split, KFold\n",
    "import xml_read\n",
    "import networkx as nx\n",
    "import pandas as pd\n",
    "from matplotlib import pyplot as plt\n",
    "from sklearn.metrics import log_loss\n",
    "from var_name import dict_CE\n",
    "import numpy as np\n",
    "import warnings\n",
    "warnings.filterwarnings('ignore')\n",
    "plt.rcParams['font.sans-serif']=['SimHei']"
   ]
  },
  {
   "cell_type": "code",
   "execution_count": null,
   "id": "4515b901-db1c-4d0d-b5be-687dc6e57c88",
   "metadata": {},
   "outputs": [],
   "source": [
    "file_name = 'causal network'\n",
    "graph_structure = xml_read.parse_xml_sm(file_name+'.xml')\n",
    "data = pd.read_csv('Structural data_coarse-grained.csv')\n"
   ]
  },
  {
   "cell_type": "code",
   "execution_count": null,
   "id": "714511d0-1a67-4f40-a034-192b1e8fd6ce",
   "metadata": {},
   "outputs": [],
   "source": [
    "#calculate the initial g and Q for the X to AMI, i.e. the input file\n",
    "\n",
    "def outcome_k_fold_fit_and_predict(data:pd.DataFrame,  num_folds:int):\n",
    "    all_ami_probs = np.zeros(len(data))\n",
    "    kf = KFold(n_splits=num_folds, shuffle=True, random_state=99)\n",
    "    for fold_idx, (train_idx, test_idx) in enumerate(kf.split(data)):\n",
    "        train, test = data.iloc[train_idx], data.iloc[test_idx]\n",
    "        bn = BayesianNetwork(graph_structure)\n",
    "        bn = bn.fit_node_states(data)\n",
    "        bn_cpd = bn.fit_cpds(train, method=\"BayesianEstimator\", bayes_prior=\"K2\")\n",
    "        ie = InferenceEngine(bn_cpd)\n",
    "        calc_nodes0 = bn_cpd.nodes\n",
    "        calc_nodes0.remove('AMI')\n",
    "        calc_nodes1=['CVD', 'CFAB', 'Dys', 'ALB', 'ChestPain', 'Dyspnea', 'HGB', 'Numbness', 'STAB', 'TAB', 'Age','CRF', 'Sex','Nutrition','Lifestyle','HTN'];\n",
    "        calc_nodes=calc_nodes0\n",
    "        data_calc = test.loc[:, calc_nodes]\n",
    "        gt = list(test.loc[:, 'AMI'])\n",
    "        list_calc = []\n",
    "        for idx in range(data_calc.shape[0]):\n",
    "            row = data_calc.iloc[idx]\n",
    "            list_calc.append(row.to_dict())    \n",
    "        marginal_condition = ie.query(list_calc) \n",
    "        ami_preds = [one_pred['AMI'] for one_pred in marginal_condition]\n",
    "        if isinstance(ami_preds[0], dict) and 1 in ami_preds[0]:\n",
    "            ami_probs = np.array([pred[1] for pred in ami_preds])\n",
    "            all_ami_probs[test_idx] = ami_probs\n",
    "        else:\n",
    "            print(f\"Unexpected structure in ami_preds: {ami_preds[0]}\")\n",
    "            break\n",
    "    return all_ami_probs   \n",
    "Q=outcome_k_fold_fit_and_predict(data, 10)\n",
    "print(Q)\n",
    "df = pd.DataFrame({'Q_AMI': Q})\n",
    "output_file = 'input_Q_AMI.xlsx'\n",
    "df.to_excel(output_file, index=False) "
   ]
  },
  {
   "cell_type": "code",
   "execution_count": null,
   "id": "d155dc64-e51c-4c80-84c5-b278cac5c80d",
   "metadata": {},
   "outputs": [],
   "source": [
    "def treatment_k_fold_fit_and_predict(data:pd.DataFrame,  num_folds:int,treatment:str):\n",
    "    print(treatment)\n",
    "    all_treatment_probs = np.zeros(len(data))\n",
    "    kf = KFold(n_splits=num_folds, shuffle=True, random_state=99)\n",
    "    for fold_idx, (train_idx, test_idx) in enumerate(kf.split(data)):\n",
    "        train, test = data.iloc[train_idx], data.iloc[test_idx]\n",
    "        bn = BayesianNetwork(graph_structure)\n",
    "        bn = bn.fit_node_states(data)\n",
    "        bn_cpd = bn.fit_cpds(train, method=\"BayesianEstimator\", bayes_prior=\"K2\")\n",
    "        ie = InferenceEngine(bn_cpd)\n",
    "        calc_nodes0 = bn_cpd.nodes\n",
    "        calc_nodes0.remove('AMI')\n",
    "        calc_nodes0.remove(treatment)\n",
    "        calc_nodes=calc_nodes0#validation A\n",
    "        data_calc = test.loc[:, calc_nodes]\n",
    "        list_calc = []\n",
    "        for idx in range(data_calc.shape[0]):\n",
    "            row = data_calc.iloc[idx]\n",
    "            list_calc.append(row.to_dict())       \n",
    "        marginal_condition = ie.query(list_calc)           \n",
    "        treatment_preds = [one_pred[treatment] for one_pred in marginal_condition]\n",
    "        if isinstance(treatment_preds[0], dict) and 1 in treatment_preds[0]:\n",
    "            treatment_probs = np.array([pred[1] for pred in treatment_preds])\n",
    "            all_treatment_probs[test_idx] = treatment_probs\n",
    "        else:\n",
    "            print(f\"Unexpected structure in treatment_preds: {treatment_preds[0]}\")\n",
    "            break\n",
    "        print(all_treatment_probs)\n",
    "    combinestr='input_g_'+treatment\n",
    "    combinestr2='C:/yourdir/XtoAMI/g/'+combinestr+'.xlsx'\n",
    "    df = pd.DataFrame({combinestr: all_treatment_probs})\n",
    "    df.to_excel(combinestr2, index=False)\n",
    "    return all_treatment_probs\n",
    "calc_nodes=['Age','HTN','Sex','CRF','Dys','CFAB','CVD','Nutrition','Lifestyle'];\n",
    "for i in range(len(calc_nodes)):    \n",
    "    treatment_k_fold_fit_and_predict(data, 10,calc_nodes[i])\n"
   ]
  }
 ],
 "metadata": {
  "kernelspec": {
   "display_name": "Python 3 (ipykernel)",
   "language": "python",
   "name": "python3"
  },
  "language_info": {
   "codemirror_mode": {
    "name": "ipython",
    "version": 3
   },
   "file_extension": ".py",
   "mimetype": "text/x-python",
   "name": "python",
   "nbconvert_exporter": "python",
   "pygments_lexer": "ipython3",
   "version": "3.8.19"
  }
 },
 "nbformat": 4,
 "nbformat_minor": 5
}
