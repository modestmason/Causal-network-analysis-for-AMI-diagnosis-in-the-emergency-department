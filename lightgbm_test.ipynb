{
 "cells": [
  {
   "cell_type": "code",
   "execution_count": null,
   "metadata": {
    "ExecuteTime": {
     "end_time": "2023-11-10T16:26:25.305702Z",
     "start_time": "2023-11-10T16:26:24.934481Z"
    },
    "tags": []
   },
   "outputs": [],
   "source": [
    "import numpy as np # linear algebra\n",
    "import pandas as pd # data processing, CSV file I/O (e.g. pd.read_csv)\n",
    "from sklearn.model_selection import StratifiedKFold\n",
    "from sklearn.metrics import log_loss\n",
    "import matplotlib.pyplot as plt\n",
    "from lightgbm import LGBMClassifier"
   ]
  },
  {
   "cell_type": "code",
   "execution_count": null,
   "metadata": {
    "ExecuteTime": {
     "end_time": "2023-11-10T16:26:27.533497Z",
     "start_time": "2023-11-10T16:26:25.309654Z"
    },
    "collapsed": false,
    "jupyter": {
     "outputs_hidden": false
    },
    "tags": []
   },
   "outputs": [],
   "source": [
    "df = pd.read_csv('Structural data_coarse-grained.csv')\n",
    "y = df['AMI'].values\n",
    "X = df.drop(['AMI'], axis=1).values"
   ]
  },
  {
   "cell_type": "code",
   "execution_count": null,
   "metadata": {
    "tags": []
   },
   "outputs": [],
   "source": [
    "#Validatoin A, B, C\n",
    "#validation A\n",
    "selected_features = []\n",
    "#validation B\n",
    "#selected_features = [ 1,2,4,5,6,7,9,10,11,12, 17,19,20,21,22,23,24,25,26,27,28,30,31,33,34,35,36,37,38,39,40,41,42,43,44,45,46,47,48,49,50] #验证C\n",
    "#validation C\n",
    "#selected_features = [29,51,14,32,13,15,16,18,8,3,0,52] \n",
    "total_features=np.arange(54).reshape((1, 54))\n",
    "counter_features=np.setdiff1d(total_features,selected_features)"
   ]
  },
  {
   "cell_type": "code",
   "execution_count": null,
   "metadata": {},
   "outputs": [],
   "source": [
    "import numpy as np\n",
    "from sklearn.model_selection import StratifiedKFold\n",
    "from sklearn.metrics import precision_score, recall_score, accuracy_score, f1_score, roc_auc_score, log_loss\n",
    "from lightgbm import LGBMClassifier\n",
    "\n",
    "metrics_per_fold = []\n",
    "praf = ['precision', 'recall', 'acc', 'f1', 'specificity', 'roc_auc', 'log_loss']\n",
    "NUM_SPLITS = 10\n",
    "skf = StratifiedKFold(shuffle=True, random_state=79, n_splits=NUM_SPLITS)\n",
    "for fold, (train_idx, val_idx) in enumerate(skf.split(X=X, y=y)):\n",
    "    X_train_modified = X[train_idx].copy()\n",
    "    X_val_modified = X[val_idx].copy().astype(float)\n",
    "    X_val_modified[:, selected_features] = np.nan  # 假设 selected_features 已定义\n",
    "    lgb_params = {\n",
    "        'metric': 'binary_logloss',\n",
    "    }\n",
    "    clf = LGBMClassifier(**lgb_params)\n",
    "    clf.fit(X_train_modified, y[train_idx])\n",
    "    pred_proba = clf.predict_proba(X_val_modified)\n",
    "    pred_label = clf.predict(X_val_modified)\n",
    "    y_val = y[val_idx]\n",
    "    precision = precision_score(y_val, pred_label)\n",
    "    recall = recall_score(y_val, pred_label)\n",
    "    acc = accuracy_score(y_val, pred_label)\n",
    "    f1 = f1_score(y_val, pred_label)\n",
    "    specificity = recall_score(y_val, pred_label, pos_label=0)\n",
    "    roc_auc = roc_auc_score(y_val, pred_proba[:, 1])\n",
    "    ll = log_loss(y_val, pred_proba)\n",
    "    fold_metrics = [precision, recall, acc, f1, specificity, roc_auc, ll]\n",
    "    metrics_per_fold.append(fold_metrics)\n",
    "    print(f\"\\nFold {fold + 1} Metrics:\")\n",
    "    for name, value in zip(praf, fold_metrics):\n",
    "        print(f\"{name}: {value:.4f}\")\n",
    "\n",
    "metrics_per_fold = np.array(metrics_per_fold)\n",
    "mean_metrics = np.mean(metrics_per_fold, axis=0)\n",
    "std_metrics = np.std(metrics_per_fold, axis=0, ddof=1)  # 无偏标准差\n",
    "\n",
    "print(\"\\nOverall Performance (Mean ± Std):\")\n",
    "for name, mean, std in zip(praf, mean_metrics, std_metrics):\n",
    "    print(f\"{name}: {mean:.4f} ± {std:.4f}\")"
   ]
  }
 ],
 "metadata": {
  "kernelspec": {
   "display_name": "Python 3 (ipykernel)",
   "language": "python",
   "name": "python3"
  },
  "language_info": {
   "codemirror_mode": {
    "name": "ipython",
    "version": 3
   },
   "file_extension": ".py",
   "mimetype": "text/x-python",
   "name": "python",
   "nbconvert_exporter": "python",
   "pygments_lexer": "ipython3",
   "version": "3.8.19"
  }
 },
 "nbformat": 4,
 "nbformat_minor": 4
}
