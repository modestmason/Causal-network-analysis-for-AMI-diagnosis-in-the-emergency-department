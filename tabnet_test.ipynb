{
 "cells": [
  {
   "cell_type": "code",
   "execution_count": null,
   "metadata": {
    "ExecuteTime": {
     "end_time": "2023-11-10T16:27:14.452732Z",
     "start_time": "2023-11-10T16:27:08.193297Z"
    },
    "tags": []
   },
   "outputs": [],
   "source": [
    "import numpy as np # linear algebra\n",
    "import pandas as pd # data processing, CSV file I/O (e.g. pd.read_csv)\n",
    "from sklearn.model_selection import StratifiedKFold\n",
    "import matplotlib.pyplot as plt\n",
    "from pytorch_tabnet.tab_model import TabNetClassifier\n",
    "from torch.optim import AdamW, lr_scheduler"
   ]
  },
  {
   "cell_type": "code",
   "execution_count": null,
   "metadata": {
    "ExecuteTime": {
     "end_time": "2023-11-10T16:27:16.675880Z",
     "start_time": "2023-11-10T16:27:14.457687Z"
    },
    "collapsed": false,
    "jupyter": {
     "outputs_hidden": false
    },
    "tags": []
   },
   "outputs": [],
   "source": [
    "df = pd.read_csv('Structural data_coarse-grained.csv')\n",
    "y = df['AMI'].values\n",
    "X = df.drop(['AMI'], axis=1).values"
   ]
  },
  {
   "cell_type": "code",
   "execution_count": null,
   "metadata": {
    "tags": []
   },
   "outputs": [],
   "source": [
    "#Validatoin A, B, C\n",
    "#validation A\n",
    "selected_features = []\n",
    "#validation B\n",
    "#selected_features = [ 1,2,4,5,6,7,9,10,11,12, 17,19,20,21,22,23,24,25,26,27,28,30,31,33,34,35,36,37,38,39,40,41,42,43,44,45,46,47,48,49,50] #验证C\n",
    "#validation C\n",
    "#selected_features = [29,51,14,32,13,15,16,18,8,3,0,52] \n",
    "total_features=np.arange(54).reshape((1, 54))\n",
    "counter_features=np.setdiff1d(total_features,selected_features)"
   ]
  },
  {
   "cell_type": "code",
   "execution_count": null,
   "metadata": {},
   "outputs": [],
   "source": [
    "from sklearn.model_selection import StratifiedKFold\n",
    "from sklearn.metrics import precision_score, recall_score, accuracy_score, f1_score, log_loss\n",
    "import numpy as np\n",
    "NUM_SPLITS = 10\n",
    "skf = StratifiedKFold(shuffle=True, random_state=79, n_splits=NUM_SPLITS)\n",
    "metrics_per_fold = []\n",
    "praf = ['precision', 'recall', 'acc', 'f1', 'specificity', 'log_loss']\n",
    "for fold, (train_idx, val_idx) in enumerate(skf.split(X=X, y=y)):\n",
    "    X_train_modified = X[train_idx].copy()\n",
    "    X_val_modified = X[val_idx].copy().astype(float)\n",
    "    X_val_modified[:, selected_features] = np.nan  # 不进行填充\n",
    "    X_val_modified[np.isnan(X_val_modified)] = np.nanmean(X_val_modified)\n",
    "    clf = TabNetClassifier()\n",
    "    clf.fit(\n",
    "        X_train=X_train_modified,\n",
    "        y_train=y[train_idx],\n",
    "        eval_set=[(X_val_modified, y[val_idx])],\n",
    "        eval_metric=['logloss'],\n",
    "        patience=16,\n",
    "        max_epochs=100,\n",
    "        batch_size=128\n",
    "    )\n",
    "    pred_proba = clf.predict_proba(X_val_modified)\n",
    "    pred_label = clf.predict(X_val_modified)\n",
    "    y_val = y[val_idx]\n",
    "    current_logloss = log_loss(y_val, pred_proba)\n",
    "    precision = precision_score(y_val, pred_label)\n",
    "    recall_val = recall_score(y_val, pred_label)\n",
    "    acc = accuracy_score(y_val, pred_label)\n",
    "    f1 = f1_score(y_val, pred_label)\n",
    "    specificity = recall_score(y_val, pred_label, pos_label=0)\n",
    "    fold_metrics = [precision, recall_val, acc, f1, specificity, current_logloss]\n",
    "    metrics_per_fold.append(fold_metrics)    \n",
    "    print(f\"\\nFold {fold + 1} Performance:\")\n",
    "    for name, value in zip(praf, fold_metrics):\n",
    "        print(f\"{name}: {value:.4f}\")\n",
    "\n",
    "metrics_per_fold = np.array(metrics_per_fold)\n",
    "print(\"\\nFinal Metrics (Mean ± Std):\")\n",
    "for name, mean, std in zip(praf, np.mean(metrics_per_fold, axis=0), np.std(metrics_per_fold, axis=0, ddof=1)):\n",
    "    print(f\"{name}: {mean:.4f} ± {std:.4f}\")\n"
   ]
  }
 ],
 "metadata": {
  "kernelspec": {
   "display_name": "Python 3 (ipykernel)",
   "language": "python",
   "name": "python3"
  },
  "language_info": {
   "codemirror_mode": {
    "name": "ipython",
    "version": 3
   },
   "file_extension": ".py",
   "mimetype": "text/x-python",
   "name": "python",
   "nbconvert_exporter": "python",
   "pygments_lexer": "ipython3",
   "version": "3.8.19"
  }
 },
 "nbformat": 4,
 "nbformat_minor": 4
}
